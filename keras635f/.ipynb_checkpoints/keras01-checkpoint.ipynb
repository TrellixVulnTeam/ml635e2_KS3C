{
 "cells": [
  {
   "cell_type": "markdown",
   "id": "ca5b4352-36fd-4e37-83fb-96fd842e68e0",
   "metadata": {},
   "source": [
    "# This\n",
    "D:\\n\\mylibsf4\\00tsf\\deeplearningchollet\\deep-learning-with-python-meap-2nd-chapt01-07.pdf\n",
    "2022-06-08"
   ]
  },
  {
   "cell_type": "markdown",
   "id": "51209aa0-ca4d-4edb-9bdd-59240ea98a5a",
   "metadata": {},
   "source": [
    "bookmark:\n",
    "    chapter 2.2\n",
    "    "
   ]
  },
  {
   "cell_type": "code",
   "execution_count": 12,
   "id": "9f00fa67-629b-4e67-8ee1-17c880eba5af",
   "metadata": {},
   "outputs": [
    {
     "name": "stdout",
     "output_type": "stream",
     "text": [
      "Python 3.9.12\n"
     ]
    }
   ],
   "source": [
    "!python --version"
   ]
  },
  {
   "cell_type": "code",
   "execution_count": 11,
   "id": "b16c09cf-e3af-4659-9dc1-26781ad87e6e",
   "metadata": {
    "collapsed": true,
    "jupyter": {
     "outputs_hidden": true
    },
    "tags": []
   },
   "outputs": [
    {
     "name": "stdout",
     "output_type": "stream",
     "text": [
      "Collecting package metadata (current_repodata.json): done\n",
      "Solving environment: failed with initial frozen solve. Retrying with flexible solve.\n",
      "Solving environment: failed with repodata from current_repodata.json, will retry with next repodata source.\n",
      "Collecting package metadata (repodata.json): done\n",
      "Solving environment: done\n",
      "\n",
      "\n",
      "==> WARNING: A newer version of conda exists. <==\n",
      "  current version: 4.10.3\n",
      "  latest version: 4.13.0\n",
      "\n",
      "Please update conda by running\n",
      "\n",
      "    $ conda update -n base conda\n",
      "\n",
      "\n",
      "\n",
      "## Package Plan ##\n",
      "\n",
      "  environment location: /home/studio-lab-user/.conda/envs/default\n",
      "\n",
      "  added / updated specs:\n",
      "    - tensorflow\n",
      "\n",
      "\n",
      "The following packages will be downloaded:\n",
      "\n",
      "    package                    |            build\n",
      "    ---------------------------|-----------------\n",
      "    abseil-cpp-20210324.2      |       h9c3ff4c_0        1010 KB  conda-forge\n",
      "    absl-py-1.1.0              |     pyhd8ed1ab_0          94 KB  conda-forge\n",
      "    aiohttp-3.8.1              |   py39hb9d737c_1         565 KB  conda-forge\n",
      "    aiosignal-1.2.0            |     pyhd8ed1ab_0          12 KB  conda-forge\n",
      "    astunparse-1.6.3           |     pyhd8ed1ab_0          15 KB  conda-forge\n",
      "    async-timeout-4.0.2        |     pyhd8ed1ab_0           9 KB  conda-forge\n",
      "    blinker-1.4                |             py_1          13 KB  conda-forge\n",
      "    brotlipy-0.7.0             |py39hb9d737c_1004         342 KB  conda-forge\n",
      "    c-ares-1.18.1              |       h7f98852_0         113 KB  conda-forge\n",
      "    ca-certificates-2022.5.18.1|       ha878542_0         144 KB  conda-forge\n",
      "    cached-property-1.5.2      |       hd8ed1ab_1           4 KB  conda-forge\n",
      "    cached_property-1.5.2      |     pyha770c72_1          11 KB  conda-forge\n",
      "    cachetools-4.2.4           |     pyhd8ed1ab_0          12 KB  conda-forge\n",
      "    certifi-2022.5.18.1        |   py39hf3d152e_0         150 KB  conda-forge\n",
      "    charset-normalizer-2.0.12  |     pyhd8ed1ab_0          35 KB  conda-forge\n",
      "    click-8.1.3                |   py39hf3d152e_0         146 KB  conda-forge\n",
      "    cryptography-37.0.2        |   py39hd97740a_0         1.5 MB  conda-forge\n",
      "    frozenlist-1.3.0           |   py39hb9d737c_1          43 KB  conda-forge\n",
      "    gast-0.4.0                 |     pyh9f0ad1d_0          12 KB  conda-forge\n",
      "    giflib-5.2.1               |       h36c2ea0_2          77 KB  conda-forge\n",
      "    google-auth-1.35.0         |     pyh6c4a22f_0          81 KB  conda-forge\n",
      "    google-auth-oauthlib-0.4.6 |     pyhd8ed1ab_0          19 KB  conda-forge\n",
      "    google-pasta-0.2.0         |     pyh8c360ce_0          42 KB  conda-forge\n",
      "    grpc-cpp-1.43.2            |       h9e046d8_3         4.2 MB  conda-forge\n",
      "    grpcio-1.43.0              |   py39hff7568b_0         2.4 MB  conda-forge\n",
      "    h5py-3.6.0                 |nompi_py39h7e08c79_100         1.3 MB  conda-forge\n",
      "    hdf5-1.12.1                |nompi_h2386368_104         3.5 MB  conda-forge\n",
      "    icu-70.1                   |       h27087fc_0        13.5 MB  conda-forge\n",
      "    idna-3.3                   |     pyhd8ed1ab_0          55 KB  conda-forge\n",
      "    jpeg-9e                    |       h166bdaf_1         268 KB  conda-forge\n",
      "    keras-2.7.0                |     pyhd8ed1ab_0         842 KB  conda-forge\n",
      "    keras-preprocessing-1.1.2  |     pyhd8ed1ab_0          34 KB  conda-forge\n",
      "    keyutils-1.6.1             |       h166bdaf_0         115 KB  conda-forge\n",
      "    krb5-1.19.3                |       h3790be6_0         1.4 MB  conda-forge\n",
      "    libblas-3.9.0              |15_linux64_openblas          12 KB  conda-forge\n",
      "    libcblas-3.9.0             |15_linux64_openblas          12 KB  conda-forge\n",
      "    libcurl-7.83.1             |       h7bff187_0         342 KB  conda-forge\n",
      "    libedit-3.1.20191231       |       he28a2e2_2         121 KB  conda-forge\n",
      "    libev-4.33                 |       h516909a_1         104 KB  conda-forge\n",
      "    libgfortran-ng-12.1.0      |      h69a702a_16          23 KB  conda-forge\n",
      "    libgfortran5-12.1.0        |      hdcd56e2_16         1.8 MB  conda-forge\n",
      "    liblapack-3.9.0            |15_linux64_openblas          12 KB  conda-forge\n",
      "    libnghttp2-1.47.0          |       h727a467_0         808 KB  conda-forge\n",
      "    libopenblas-0.3.20         |pthreads_h78a6416_0        10.1 MB  conda-forge\n",
      "    libpng-1.6.37              |       h21135ba_2         306 KB  conda-forge\n",
      "    libprotobuf-3.19.4         |       h780b84a_0         2.6 MB  conda-forge\n",
      "    libssh2-1.10.0             |       ha56f1ee_2         233 KB  conda-forge\n",
      "    markdown-3.3.7             |     pyhd8ed1ab_0          67 KB  conda-forge\n",
      "    multidict-6.0.2            |   py39hb9d737c_1          51 KB  conda-forge\n",
      "    numpy-1.22.3               |   py39hc58783e_2         6.8 MB  conda-forge\n",
      "    oauthlib-3.2.0             |     pyhd8ed1ab_0          90 KB  conda-forge\n",
      "    openssl-1.1.1o             |       h166bdaf_0         2.1 MB  conda-forge\n",
      "    opt_einsum-3.3.0           |     pyhd8ed1ab_1          53 KB  conda-forge\n",
      "    protobuf-3.19.4            |   py39he80948d_0         333 KB  conda-forge\n",
      "    pyasn1-0.4.8               |             py_0          53 KB  conda-forge\n",
      "    pyasn1-modules-0.2.7       |             py_0          60 KB  conda-forge\n",
      "    pyjwt-2.4.0                |     pyhd8ed1ab_0          19 KB  conda-forge\n",
      "    pyopenssl-22.0.0           |     pyhd8ed1ab_0          49 KB  conda-forge\n",
      "    pysocks-1.7.1              |   py39hf3d152e_5          28 KB  conda-forge\n",
      "    python-3.9.12              |h9a8a25e_1_cpython        26.7 MB  conda-forge\n",
      "    python-flatbuffers-2.0     |     pyhd8ed1ab_0          28 KB  conda-forge\n",
      "    pyu2f-0.1.5                |     pyhd8ed1ab_0          31 KB  conda-forge\n",
      "    re2-2022.02.01             |       h9c3ff4c_0         223 KB  conda-forge\n",
      "    requests-2.27.1            |     pyhd8ed1ab_0          53 KB  conda-forge\n",
      "    requests-oauthlib-1.3.1    |     pyhd8ed1ab_0          22 KB  conda-forge\n",
      "    rsa-4.8                    |     pyhd8ed1ab_0          31 KB  conda-forge\n",
      "    scipy-1.8.1                |   py39he49c0e8_0        24.9 MB  conda-forge\n",
      "    snappy-1.1.9               |       hbd366e4_1          35 KB  conda-forge\n",
      "    tensorboard-2.6.0          |     pyhd8ed1ab_1         5.0 MB  conda-forge\n",
      "    tensorboard-data-server-0.6.0|   py39hd97740a_2         3.1 MB  conda-forge\n",
      "    tensorboard-plugin-wit-1.8.1|     pyhd8ed1ab_0         668 KB  conda-forge\n",
      "    tensorflow-2.7.1           |cpu_py39h4655687_0          27 KB  conda-forge\n",
      "    tensorflow-base-2.7.1      |cpu_py39hfb6d7af_0       110.0 MB  conda-forge\n",
      "    tensorflow-estimator-2.7.1 |cpu_py39heaff504_0         653 KB  conda-forge\n",
      "    termcolor-1.1.0            |             py_2           6 KB  conda-forge\n",
      "    typing-extensions-4.2.0    |       hd8ed1ab_1           8 KB  conda-forge\n",
      "    typing_extensions-4.2.0    |     pyha770c72_1          27 KB  conda-forge\n",
      "    urllib3-1.26.9             |     pyhd8ed1ab_0         100 KB  conda-forge\n",
      "    werkzeug-2.1.2             |     pyhd8ed1ab_1         237 KB  conda-forge\n",
      "    wrapt-1.14.1               |   py39hb9d737c_0          50 KB  conda-forge\n",
      "    yarl-1.7.2                 |   py39hb9d737c_2         132 KB  conda-forge\n",
      "    ------------------------------------------------------------\n",
      "                                           Total:       230.2 MB\n",
      "\n",
      "The following NEW packages will be INSTALLED:\n",
      "\n",
      "  abseil-cpp         conda-forge/linux-64::abseil-cpp-20210324.2-h9c3ff4c_0\n",
      "  absl-py            conda-forge/noarch::absl-py-1.1.0-pyhd8ed1ab_0\n",
      "  aiohttp            conda-forge/linux-64::aiohttp-3.8.1-py39hb9d737c_1\n",
      "  aiosignal          conda-forge/noarch::aiosignal-1.2.0-pyhd8ed1ab_0\n",
      "  astunparse         conda-forge/noarch::astunparse-1.6.3-pyhd8ed1ab_0\n",
      "  async-timeout      conda-forge/noarch::async-timeout-4.0.2-pyhd8ed1ab_0\n",
      "  blinker            conda-forge/noarch::blinker-1.4-py_1\n",
      "  brotlipy           conda-forge/linux-64::brotlipy-0.7.0-py39hb9d737c_1004\n",
      "  c-ares             conda-forge/linux-64::c-ares-1.18.1-h7f98852_0\n",
      "  cached-property    conda-forge/noarch::cached-property-1.5.2-hd8ed1ab_1\n",
      "  cached_property    conda-forge/noarch::cached_property-1.5.2-pyha770c72_1\n",
      "  cachetools         conda-forge/noarch::cachetools-4.2.4-pyhd8ed1ab_0\n",
      "  certifi            conda-forge/linux-64::certifi-2022.5.18.1-py39hf3d152e_0\n",
      "  charset-normalizer conda-forge/noarch::charset-normalizer-2.0.12-pyhd8ed1ab_0\n",
      "  click              conda-forge/linux-64::click-8.1.3-py39hf3d152e_0\n",
      "  cryptography       conda-forge/linux-64::cryptography-37.0.2-py39hd97740a_0\n",
      "  frozenlist         conda-forge/linux-64::frozenlist-1.3.0-py39hb9d737c_1\n",
      "  gast               conda-forge/noarch::gast-0.4.0-pyh9f0ad1d_0\n",
      "  giflib             conda-forge/linux-64::giflib-5.2.1-h36c2ea0_2\n",
      "  google-auth        conda-forge/noarch::google-auth-1.35.0-pyh6c4a22f_0\n",
      "  google-auth-oauth~ conda-forge/noarch::google-auth-oauthlib-0.4.6-pyhd8ed1ab_0\n",
      "  google-pasta       conda-forge/noarch::google-pasta-0.2.0-pyh8c360ce_0\n",
      "  grpc-cpp           conda-forge/linux-64::grpc-cpp-1.43.2-h9e046d8_3\n",
      "  grpcio             conda-forge/linux-64::grpcio-1.43.0-py39hff7568b_0\n",
      "  h5py               conda-forge/linux-64::h5py-3.6.0-nompi_py39h7e08c79_100\n",
      "  hdf5               conda-forge/linux-64::hdf5-1.12.1-nompi_h2386368_104\n",
      "  icu                conda-forge/linux-64::icu-70.1-h27087fc_0\n",
      "  idna               conda-forge/noarch::idna-3.3-pyhd8ed1ab_0\n",
      "  jpeg               conda-forge/linux-64::jpeg-9e-h166bdaf_1\n",
      "  keras              conda-forge/noarch::keras-2.7.0-pyhd8ed1ab_0\n",
      "  keras-preprocessi~ conda-forge/noarch::keras-preprocessing-1.1.2-pyhd8ed1ab_0\n",
      "  keyutils           conda-forge/linux-64::keyutils-1.6.1-h166bdaf_0\n",
      "  krb5               conda-forge/linux-64::krb5-1.19.3-h3790be6_0\n",
      "  libblas            conda-forge/linux-64::libblas-3.9.0-15_linux64_openblas\n",
      "  libcblas           conda-forge/linux-64::libcblas-3.9.0-15_linux64_openblas\n",
      "  libcurl            conda-forge/linux-64::libcurl-7.83.1-h7bff187_0\n",
      "  libedit            conda-forge/linux-64::libedit-3.1.20191231-he28a2e2_2\n",
      "  libev              conda-forge/linux-64::libev-4.33-h516909a_1\n",
      "  libgfortran-ng     conda-forge/linux-64::libgfortran-ng-12.1.0-h69a702a_16\n",
      "  libgfortran5       conda-forge/linux-64::libgfortran5-12.1.0-hdcd56e2_16\n",
      "  liblapack          conda-forge/linux-64::liblapack-3.9.0-15_linux64_openblas\n",
      "  libnghttp2         conda-forge/linux-64::libnghttp2-1.47.0-h727a467_0\n",
      "  libopenblas        conda-forge/linux-64::libopenblas-0.3.20-pthreads_h78a6416_0\n",
      "  libpng             conda-forge/linux-64::libpng-1.6.37-h21135ba_2\n",
      "  libprotobuf        conda-forge/linux-64::libprotobuf-3.19.4-h780b84a_0\n",
      "  libssh2            conda-forge/linux-64::libssh2-1.10.0-ha56f1ee_2\n",
      "  markdown           conda-forge/noarch::markdown-3.3.7-pyhd8ed1ab_0\n",
      "  multidict          conda-forge/linux-64::multidict-6.0.2-py39hb9d737c_1\n",
      "  numpy              conda-forge/linux-64::numpy-1.22.3-py39hc58783e_2\n",
      "  oauthlib           conda-forge/noarch::oauthlib-3.2.0-pyhd8ed1ab_0\n",
      "  opt_einsum         conda-forge/noarch::opt_einsum-3.3.0-pyhd8ed1ab_1\n",
      "  protobuf           conda-forge/linux-64::protobuf-3.19.4-py39he80948d_0\n",
      "  pyasn1             conda-forge/noarch::pyasn1-0.4.8-py_0\n",
      "  pyasn1-modules     conda-forge/noarch::pyasn1-modules-0.2.7-py_0\n",
      "  pyjwt              conda-forge/noarch::pyjwt-2.4.0-pyhd8ed1ab_0\n",
      "  pyopenssl          conda-forge/noarch::pyopenssl-22.0.0-pyhd8ed1ab_0\n",
      "  pysocks            conda-forge/linux-64::pysocks-1.7.1-py39hf3d152e_5\n",
      "  python-flatbuffers conda-forge/noarch::python-flatbuffers-2.0-pyhd8ed1ab_0\n",
      "  pyu2f              conda-forge/noarch::pyu2f-0.1.5-pyhd8ed1ab_0\n",
      "  re2                conda-forge/linux-64::re2-2022.02.01-h9c3ff4c_0\n",
      "  requests           conda-forge/noarch::requests-2.27.1-pyhd8ed1ab_0\n",
      "  requests-oauthlib  conda-forge/noarch::requests-oauthlib-1.3.1-pyhd8ed1ab_0\n",
      "  rsa                conda-forge/noarch::rsa-4.8-pyhd8ed1ab_0\n",
      "  scipy              conda-forge/linux-64::scipy-1.8.1-py39he49c0e8_0\n",
      "  snappy             conda-forge/linux-64::snappy-1.1.9-hbd366e4_1\n",
      "  tensorboard        conda-forge/noarch::tensorboard-2.6.0-pyhd8ed1ab_1\n",
      "  tensorboard-data-~ conda-forge/linux-64::tensorboard-data-server-0.6.0-py39hd97740a_2\n",
      "  tensorboard-plugi~ conda-forge/noarch::tensorboard-plugin-wit-1.8.1-pyhd8ed1ab_0\n",
      "  tensorflow         conda-forge/linux-64::tensorflow-2.7.1-cpu_py39h4655687_0\n",
      "  tensorflow-base    conda-forge/linux-64::tensorflow-base-2.7.1-cpu_py39hfb6d7af_0\n",
      "  tensorflow-estima~ conda-forge/linux-64::tensorflow-estimator-2.7.1-cpu_py39heaff504_0\n",
      "  termcolor          conda-forge/noarch::termcolor-1.1.0-py_2\n",
      "  typing-extensions  conda-forge/noarch::typing-extensions-4.2.0-hd8ed1ab_1\n",
      "  typing_extensions  conda-forge/noarch::typing_extensions-4.2.0-pyha770c72_1\n",
      "  urllib3            conda-forge/noarch::urllib3-1.26.9-pyhd8ed1ab_0\n",
      "  werkzeug           conda-forge/noarch::werkzeug-2.1.2-pyhd8ed1ab_1\n",
      "  wrapt              conda-forge/linux-64::wrapt-1.14.1-py39hb9d737c_0\n",
      "  yarl               conda-forge/linux-64::yarl-1.7.2-py39hb9d737c_2\n",
      "\n",
      "The following packages will be UPDATED:\n",
      "\n",
      "  ca-certificates                      2021.10.8-ha878542_0 --> 2022.5.18.1-ha878542_0\n",
      "\n",
      "The following packages will be DOWNGRADED:\n",
      "\n",
      "  openssl                                  3.0.3-h166bdaf_0 --> 1.1.1o-h166bdaf_0\n",
      "  python                          3.9.12-h2660328_1_cpython --> 3.9.12-h9a8a25e_1_cpython\n",
      "\n",
      "\n",
      "\n",
      "Downloading and Extracting Packages\n",
      "pyjwt-2.4.0          | 19 KB     | ##################################### | 100% \n",
      "krb5-1.19.3          | 1.4 MB    | ##################################### | 100% \n",
      "yarl-1.7.2           | 132 KB    | ##################################### | 100% \n",
      "termcolor-1.1.0      | 6 KB      | ##################################### | 100% \n",
      "google-auth-1.35.0   | 81 KB     | ##################################### | 100% \n",
      "async-timeout-4.0.2  | 9 KB      | ##################################### | 100% \n",
      "ca-certificates-2022 | 144 KB    | ##################################### | 100% \n",
      "click-8.1.3          | 146 KB    | ##################################### | 100% \n",
      "tensorboard-2.6.0    | 5.0 MB    | ##################################### | 100% \n",
      "idna-3.3             | 55 KB     | ##################################### | 100% \n",
      "grpc-cpp-1.43.2      | 4.2 MB    | ##################################### | 100% \n",
      "urllib3-1.26.9       | 100 KB    | ##################################### | 100% \n",
      "pyasn1-modules-0.2.7 | 60 KB     | ##################################### | 100% \n",
      "aiosignal-1.2.0      | 12 KB     | ##################################### | 100% \n",
      "cached_property-1.5. | 11 KB     | ##################################### | 100% \n",
      "requests-oauthlib-1. | 22 KB     | ##################################### | 100% \n",
      "google-auth-oauthlib | 19 KB     | ##################################### | 100% \n",
      "charset-normalizer-2 | 35 KB     | ##################################### | 100% \n",
      "hdf5-1.12.1          | 3.5 MB    | ##################################### | 100% \n",
      "wrapt-1.14.1         | 50 KB     | ##################################### | 100% \n",
      "liblapack-3.9.0      | 12 KB     | ##################################### | 100% \n",
      "gast-0.4.0           | 12 KB     | ##################################### | 100% \n",
      "python-3.9.12        | 26.7 MB   | ##################################### | 100% \n",
      "markdown-3.3.7       | 67 KB     | ##################################### | 100% \n",
      "pyu2f-0.1.5          | 31 KB     | ##################################### | 100% \n",
      "libedit-3.1.20191231 | 121 KB    | ##################################### | 100% \n",
      "openssl-1.1.1o       | 2.1 MB    | ##################################### | 100% \n",
      "libopenblas-0.3.20   | 10.1 MB   | ##################################### | 100% \n",
      "grpcio-1.43.0        | 2.4 MB    | ##################################### | 100% \n",
      "re2-2022.02.01       | 223 KB    | ##################################### | 100% \n",
      "snappy-1.1.9         | 35 KB     | ##################################### | 100% \n",
      "pysocks-1.7.1        | 28 KB     | ##################################### | 100% \n",
      "h5py-3.6.0           | 1.3 MB    | ##################################### | 100% \n",
      "keyutils-1.6.1       | 115 KB    | ##################################### | 100% \n",
      "abseil-cpp-20210324. | 1010 KB   | ##################################### | 100% \n",
      "libgfortran-ng-12.1. | 23 KB     | ##################################### | 100% \n",
      "requests-2.27.1      | 53 KB     | ##################################### | 100% \n",
      "tensorflow-2.7.1     | 27 KB     | ##################################### | 100% \n",
      "libev-4.33           | 104 KB    | ##################################### | 100% \n",
      "libblas-3.9.0        | 12 KB     | ##################################### | 100% \n",
      "oauthlib-3.2.0       | 90 KB     | ##################################### | 100% \n",
      "typing_extensions-4. | 27 KB     | ##################################### | 100% \n",
      "cryptography-37.0.2  | 1.5 MB    | ##################################### | 100% \n",
      "blinker-1.4          | 13 KB     | ##################################### | 100% \n",
      "astunparse-1.6.3     | 15 KB     | ##################################### | 100% \n",
      "libcblas-3.9.0       | 12 KB     | ##################################### | 100% \n",
      "giflib-5.2.1         | 77 KB     | ##################################### | 100% \n",
      "pyopenssl-22.0.0     | 49 KB     | ##################################### | 100% \n",
      "tensorflow-estimator | 653 KB    | ##################################### | 100% \n",
      "tensorflow-base-2.7. | 110.0 MB  | ##################################### | 100% \n",
      "libcurl-7.83.1       | 342 KB    | ##################################### | 100% \n",
      "libnghttp2-1.47.0    | 808 KB    | ##################################### | 100% \n",
      "libssh2-1.10.0       | 233 KB    | ##################################### | 100% \n",
      "keras-2.7.0          | 842 KB    | ##################################### | 100% \n",
      "libgfortran5-12.1.0  | 1.8 MB    | ##################################### | 100% \n",
      "brotlipy-0.7.0       | 342 KB    | ##################################### | 100% \n",
      "google-pasta-0.2.0   | 42 KB     | ##################################### | 100% \n",
      "libprotobuf-3.19.4   | 2.6 MB    | ##################################### | 100% \n",
      "tensorboard-data-ser | 3.1 MB    | ##################################### | 100% \n",
      "cachetools-4.2.4     | 12 KB     | ##################################### | 100% \n",
      "absl-py-1.1.0        | 94 KB     | ##################################### | 100% \n",
      "aiohttp-3.8.1        | 565 KB    | ##################################### | 100% \n",
      "libpng-1.6.37        | 306 KB    | ##################################### | 100% \n",
      "tensorboard-plugin-w | 668 KB    | ##################################### | 100% \n",
      "python-flatbuffers-2 | 28 KB     | ##################################### | 100% \n",
      "typing-extensions-4. | 8 KB      | ##################################### | 100% \n",
      "scipy-1.8.1          | 24.9 MB   | ##################################### | 100% \n",
      "icu-70.1             | 13.5 MB   | ##################################### | 100% \n",
      "numpy-1.22.3         | 6.8 MB    | ##################################### | 100% \n",
      "opt_einsum-3.3.0     | 53 KB     | ##################################### | 100% \n",
      "multidict-6.0.2      | 51 KB     | ##################################### | 100% \n",
      "jpeg-9e              | 268 KB    | ##################################### | 100% \n",
      "protobuf-3.19.4      | 333 KB    | ##################################### | 100% \n",
      "frozenlist-1.3.0     | 43 KB     | ##################################### | 100% \n",
      "werkzeug-2.1.2       | 237 KB    | ##################################### | 100% \n",
      "cached-property-1.5. | 4 KB      | ##################################### | 100% \n",
      "rsa-4.8              | 31 KB     | ##################################### | 100% \n",
      "keras-preprocessing- | 34 KB     | ##################################### | 100% \n",
      "certifi-2022.5.18.1  | 150 KB    | ##################################### | 100% \n",
      "c-ares-1.18.1        | 113 KB    | ##################################### | 100% \n",
      "pyasn1-0.4.8         | 53 KB     | ##################################### | 100% \n",
      "Preparing transaction: done\n",
      "Verifying transaction: done\n",
      "Executing transaction: done\n"
     ]
    }
   ],
   "source": [
    "!conda install -y  tensorflow "
   ]
  },
  {
   "cell_type": "code",
   "execution_count": 15,
   "id": "25d83e5b-7b10-4756-9731-7bfce3c84acc",
   "metadata": {
    "tags": []
   },
   "outputs": [
    {
     "name": "stdout",
     "output_type": "stream",
     "text": [
      "/home/studio-lab-user\n"
     ]
    }
   ],
   "source": [
    "%%bash\n",
    "pwd\n",
    "# conda init bash\n",
    "# conda activate studiolab\n"
   ]
  },
  {
   "cell_type": "code",
   "execution_count": 13,
   "id": "0b08cd73-0ef6-48d5-a749-eea642134fbc",
   "metadata": {
    "collapsed": true,
    "jupyter": {
     "outputs_hidden": true
    },
    "tags": []
   },
   "outputs": [
    {
     "name": "stdout",
     "output_type": "stream",
     "text": [
      "Package                       Version\n",
      "----------------------------- -----------\n",
      "absl-py                       1.1.0\n",
      "aiohttp                       3.8.1\n",
      "aiosignal                     1.2.0\n",
      "argon2-cffi                   21.3.0\n",
      "argon2-cffi-bindings          21.2.0\n",
      "astunparse                    1.6.3\n",
      "async-timeout                 4.0.2\n",
      "attrs                         21.4.0\n",
      "backcall                      0.2.0\n",
      "backports.functools-lru-cache 1.6.4\n",
      "beautifulsoup4                4.11.1\n",
      "bleach                        5.0.0\n",
      "blinker                       1.4\n",
      "brotlipy                      0.7.0\n",
      "cached-property               1.5.2\n",
      "cachetools                    4.2.4\n",
      "certifi                       2022.5.18.1\n",
      "cffi                          1.15.0\n",
      "charset-normalizer            2.0.12\n",
      "click                         8.1.3\n",
      "cryptography                  37.0.2\n",
      "debugpy                       1.6.0\n",
      "decorator                     5.1.1\n",
      "defusedxml                    0.7.1\n",
      "entrypoints                   0.4\n",
      "fastjsonschema                2.15.3\n",
      "flatbuffers                   2.0\n",
      "flit_core                     3.7.1\n",
      "frozenlist                    1.3.0\n",
      "gast                          0.4.0\n",
      "google-auth                   1.35.0\n",
      "google-auth-oauthlib          0.4.6\n",
      "google-pasta                  0.2.0\n",
      "grpcio                        1.43.0\n",
      "h5py                          3.6.0\n",
      "idna                          3.3\n",
      "importlib-metadata            4.11.3\n",
      "importlib-resources           5.7.1\n",
      "ipykernel                     6.4.2\n",
      "ipython                       7.33.0\n",
      "ipython-genutils              0.2.0\n",
      "ipywidgets                    7.7.0\n",
      "jedi                          0.18.1\n",
      "Jinja2                        3.1.2\n",
      "jsonschema                    4.5.1\n",
      "jupyter-client                7.3.0\n",
      "jupyter-core                  4.9.2\n",
      "jupyterlab-pygments           0.2.2\n",
      "jupyterlab-widgets            1.1.0\n",
      "keras                         2.7.0\n",
      "Keras-Preprocessing           1.1.2\n",
      "Markdown                      3.3.7\n",
      "MarkupSafe                    2.1.1\n",
      "matplotlib-inline             0.1.3\n",
      "mistune                       0.8.4\n",
      "multidict                     6.0.2\n",
      "nbclient                      0.6.2\n",
      "nbconvert                     6.5.0\n",
      "nbformat                      5.4.0\n",
      "nest-asyncio                  1.5.5\n",
      "notebook                      6.4.11\n",
      "numpy                         1.22.3\n",
      "oauthlib                      3.2.0\n",
      "opt-einsum                    3.3.0\n",
      "packaging                     21.3\n",
      "pandocfilters                 1.5.0\n",
      "parso                         0.8.3\n",
      "pexpect                       4.8.0\n",
      "pickleshare                   0.7.5\n",
      "pip                           21.2.4\n",
      "prometheus-client             0.14.1\n",
      "prompt-toolkit                3.0.29\n",
      "protobuf                      3.19.4\n",
      "ptyprocess                    0.7.0\n",
      "pyasn1                        0.4.8\n",
      "pyasn1-modules                0.2.7\n",
      "pycparser                     2.21\n",
      "Pygments                      2.12.0\n",
      "PyJWT                         2.4.0\n",
      "pyOpenSSL                     22.0.0\n",
      "pyparsing                     3.0.8\n",
      "pyrsistent                    0.18.1\n",
      "PySocks                       1.7.1\n",
      "python-dateutil               2.8.2\n",
      "pyu2f                         0.1.5\n",
      "pyzmq                         22.3.0\n",
      "requests                      2.27.1\n",
      "requests-oauthlib             1.3.1\n",
      "rsa                           4.8\n",
      "scipy                         1.8.1\n",
      "Send2Trash                    1.8.0\n",
      "setuptools                    62.1.0\n",
      "six                           1.16.0\n",
      "soupsieve                     2.3.1\n",
      "tensorboard                   2.6.0\n",
      "tensorboard-data-server       0.6.0\n",
      "tensorboard-plugin-wit        1.8.1\n",
      "tensorflow                    2.7.1\n",
      "tensorflow-estimator          2.7.0\n",
      "termcolor                     1.1.0\n",
      "terminado                     0.13.3\n",
      "tinycss2                      1.1.1\n",
      "tornado                       6.1\n",
      "traitlets                     5.1.1\n",
      "typing_extensions             4.2.0\n",
      "urllib3                       1.26.9\n",
      "wcwidth                       0.2.5\n",
      "webencodings                  0.5.1\n",
      "Werkzeug                      2.1.2\n",
      "wheel                         0.37.1\n",
      "widgetsnbextension            3.6.0\n",
      "wrapt                         1.14.1\n",
      "yarl                          1.7.2\n",
      "zipp                          3.8.0\n",
      "Note: you may need to restart the kernel to use updated packages.\n"
     ]
    }
   ],
   "source": [
    "pip list"
   ]
  },
  {
   "cell_type": "code",
   "execution_count": 14,
   "id": "7b7c6300-0ec9-42a6-a0ec-75279204f002",
   "metadata": {
    "tags": []
   },
   "outputs": [
    {
     "name": "stdout",
     "output_type": "stream",
     "text": [
      "Downloading data from https://storage.googleapis.com/tensorflow/tf-keras-datasets/mnist.npz\n",
      "11493376/11490434 [==============================] - 0s 0us/step\n",
      "11501568/11490434 [==============================] - 0s 0us/step\n"
     ]
    }
   ],
   "source": [
    "from tensorflow.keras.datasets import mnist\n",
    "(train_images, train_labels), (test_images, test_labels) = mnist.load_data()"
   ]
  },
  {
   "cell_type": "code",
   "execution_count": 16,
   "id": "6b11ae17-0fe6-4dc3-91a6-bedc634ec787",
   "metadata": {},
   "outputs": [
    {
     "data": {
      "text/plain": [
       "(60000, 28, 28)"
      ]
     },
     "execution_count": 16,
     "metadata": {},
     "output_type": "execute_result"
    }
   ],
   "source": [
    "# 2.1 A first look at a neural network\n",
    "\n",
    "train_images.shape"
   ]
  },
  {
   "cell_type": "code",
   "execution_count": 17,
   "id": "df297034-8ac7-4284-9bd4-2ad6bf35150f",
   "metadata": {},
   "outputs": [
    {
     "data": {
      "text/plain": [
       "array([7, 2, 1, ..., 4, 5, 6], dtype=uint8)"
      ]
     },
     "execution_count": 17,
     "metadata": {},
     "output_type": "execute_result"
    }
   ],
   "source": [
    "test_labels"
   ]
  },
  {
   "cell_type": "code",
   "execution_count": 18,
   "id": "b9f2026f-df0d-4c50-b364-e81cecbc189d",
   "metadata": {},
   "outputs": [
    {
     "name": "stderr",
     "output_type": "stream",
     "text": [
      "2022-06-08 15:04:03.667099: I tensorflow/core/platform/cpu_feature_guard.cc:151] This TensorFlow binary is optimized with oneAPI Deep Neural Network Library (oneDNN) to use the following CPU instructions in performance-critical operations:  SSE4.1 SSE4.2 AVX AVX2 AVX512F FMA\n",
      "To enable them in other operations, rebuild TensorFlow with the appropriate compiler flags.\n"
     ]
    }
   ],
   "source": [
    "from tensorflow.keras import models\n",
    "from tensorflow.keras import layers\n",
    "model = models.Sequential([\n",
    "layers.Dense(512, activation='relu'),\n",
    "layers.Dense(10, activation='softmax')\n",
    "])"
   ]
  },
  {
   "cell_type": "code",
   "execution_count": 19,
   "id": "463cd7b9-13cc-4218-b631-8d3203e5a595",
   "metadata": {},
   "outputs": [],
   "source": [
    "model.compile(optimizer='rmsprop',\n",
    "loss='sparse_categorical_crossentropy',\n",
    "metrics=['accuracy'])"
   ]
  },
  {
   "cell_type": "code",
   "execution_count": 20,
   "id": "955c651b-7c9d-4e8f-a023-bf79fa487d23",
   "metadata": {},
   "outputs": [],
   "source": [
    "train_images = train_images.reshape((60000, 28 * 28))\n",
    "train_images = train_images.astype('float32') / 255\n",
    "test_images = test_images.reshape((10000, 28 * 28))\n",
    "test_images = test_images.astype('float32') / 255"
   ]
  },
  {
   "cell_type": "code",
   "execution_count": 21,
   "id": "9e58aa53-0981-447b-8812-ccc769841101",
   "metadata": {},
   "outputs": [
    {
     "name": "stdout",
     "output_type": "stream",
     "text": [
      "Epoch 1/5\n",
      "469/469 [==============================] - 3s 5ms/step - loss: 0.2597 - accuracy: 0.9245\n",
      "Epoch 2/5\n",
      "469/469 [==============================] - 2s 5ms/step - loss: 0.1040 - accuracy: 0.9690\n",
      "Epoch 3/5\n",
      "469/469 [==============================] - 2s 5ms/step - loss: 0.0687 - accuracy: 0.9793\n",
      "Epoch 4/5\n",
      "469/469 [==============================] - 3s 5ms/step - loss: 0.0505 - accuracy: 0.9848\n",
      "Epoch 5/5\n",
      "469/469 [==============================] - 2s 5ms/step - loss: 0.0373 - accuracy: 0.9887\n"
     ]
    },
    {
     "data": {
      "text/plain": [
       "<keras.callbacks.History at 0x7fd455037b50>"
      ]
     },
     "execution_count": 21,
     "metadata": {},
     "output_type": "execute_result"
    }
   ],
   "source": [
    "model.fit(train_images, train_labels, epochs=5, batch_size=128)\n",
    "# Epoch 1/5\n",
    "# 60000/60000 [==============================] - 5s - loss: 0.2524 - acc: 0.9273\n",
    "# Epoch 2/5\n",
    "# 51328/60000 [========================>.....] - ETA: 1s - loss: 0.1035 - acc: 0.9692"
   ]
  },
  {
   "cell_type": "code",
   "execution_count": 22,
   "id": "fd5cd9d9-f332-4de5-a476-1b8b317a006e",
   "metadata": {},
   "outputs": [
    {
     "data": {
      "text/plain": [
       "array([2.29503954e-08, 4.33171034e-11, 1.14876764e-06, 2.34202249e-04,\n",
       "       4.99644683e-12, 5.79525931e-07, 4.49019111e-14, 9.99762475e-01,\n",
       "       1.09110525e-08, 1.50377093e-06], dtype=float32)"
      ]
     },
     "execution_count": 22,
     "metadata": {},
     "output_type": "execute_result"
    }
   ],
   "source": [
    "# 2.1 A first look at a neural network\n",
    "# Listing 2.6 Using the model to make predictions\n",
    "\n",
    "test_digits = test_images[0:10]\n",
    "predictions = model.predict(test_digits)\n",
    "predictions[0]\n",
    "# array([1.0726176e-10, 1.6918376e-10, 6.1314843e-08, 8.4106023e-06,\n",
    "# 2.9967067e-11, 3.0331331e-09, 8.3651971e-14, 9.9999106e-01,\n",
    "# 2.6657624e-08, 3.8127661e-07], dtype=float32)"
   ]
  },
  {
   "cell_type": "markdown",
   "id": "c37d31c3-ea39-4d2b-8baa-fd3468d47977",
   "metadata": {},
   "source": [
    "2.2 Data representations for neural networks\n"
   ]
  },
  {
   "cell_type": "code",
   "execution_count": null,
   "id": "51eee422-1feb-481d-85f5-988d0cb340f1",
   "metadata": {},
   "outputs": [],
   "source": []
  }
 ],
 "metadata": {
  "kernelspec": {
   "display_name": "default:Python",
   "language": "python",
   "name": "conda-env-default-py"
  },
  "language_info": {
   "codemirror_mode": {
    "name": "ipython",
    "version": 3
   },
   "file_extension": ".py",
   "mimetype": "text/x-python",
   "name": "python",
   "nbconvert_exporter": "python",
   "pygments_lexer": "ipython3",
   "version": "3.9.12"
  }
 },
 "nbformat": 4,
 "nbformat_minor": 5
}
