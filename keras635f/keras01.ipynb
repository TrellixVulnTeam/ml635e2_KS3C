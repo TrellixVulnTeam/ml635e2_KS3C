{
 "cells": [
  {
   "cell_type": "markdown",
   "id": "ca5b4352-36fd-4e37-83fb-96fd842e68e0",
   "metadata": {},
   "source": [
    "# This\n",
    "D:\\n\\mylibsf4\\00tsf\\deeplearningchollet\\deep-learning-with-python-meap-2nd-chapt01-07.pdf\n",
    "2022-06-08"
   ]
  },
  {
   "cell_type": "markdown",
   "id": "51209aa0-ca4d-4edb-9bdd-59240ea98a5a",
   "metadata": {},
   "source": [
    "bookmark:\n",
    "    chapter 2.2\n",
    "    "
   ]
  },
  {
   "cell_type": "code",
   "execution_count": null,
   "id": "9f00fa67-629b-4e67-8ee1-17c880eba5af",
   "metadata": {},
   "outputs": [],
   "source": [
    "!python --version"
   ]
  },
  {
   "cell_type": "code",
   "execution_count": 2,
   "id": "b16c09cf-e3af-4659-9dc1-26781ad87e6e",
   "metadata": {
    "execution": {
     "iopub.execute_input": "2022-06-10T02:22:45.159424Z",
     "iopub.status.busy": "2022-06-10T02:22:45.158596Z",
     "iopub.status.idle": "2022-06-10T02:24:56.940387Z",
     "shell.execute_reply": "2022-06-10T02:24:56.937706Z",
     "shell.execute_reply.started": "2022-06-10T02:22:45.159336Z"
    },
    "tags": []
   },
   "outputs": [
    {
     "name": "stdout",
     "output_type": "stream",
     "text": [
      "Collecting package metadata (current_repodata.json): done\n",
      "Solving environment: failed with initial frozen solve. Retrying with flexible solve.\n",
      "Solving environment: failed with repodata from current_repodata.json, will retry with next repodata source.\n",
      "Collecting package metadata (repodata.json): done\n",
      "Solving environment: done\n",
      "\n",
      "## Package Plan ##\n",
      "\n",
      "  environment location: /opt/conda\n",
      "\n",
      "  added / updated specs:\n",
      "    - tensorflow\n",
      "\n",
      "\n",
      "The following packages will be downloaded:\n",
      "\n",
      "    package                    |            build\n",
      "    ---------------------------|-----------------\n",
      "    _tflow_select-2.3.0        |              mkl           2 KB\n",
      "    absl-py-0.15.0             |     pyhd3eb1b0_0         103 KB\n",
      "    aiohttp-3.8.1              |   py37h7f8727e_1         514 KB\n",
      "    aiosignal-1.2.0            |     pyhd3eb1b0_0          12 KB\n",
      "    astor-0.8.1                |   py37h06a4308_0          47 KB\n",
      "    astunparse-1.6.3           |             py_0          17 KB\n",
      "    async-timeout-4.0.1        |     pyhd3eb1b0_0          10 KB\n",
      "    asynctest-0.13.0           |             py_0          26 KB\n",
      "    attrs-21.4.0               |     pyhd3eb1b0_0          51 KB\n",
      "    blinker-1.4                |   py37h06a4308_0          23 KB\n",
      "    c-ares-1.18.1              |       h7f8727e_0         114 KB\n",
      "    ca-certificates-2022.4.26  |       h06a4308_0         124 KB\n",
      "    cachetools-4.2.2           |     pyhd3eb1b0_0          13 KB\n",
      "    certifi-2022.5.18.1        |   py37h06a4308_0         147 KB\n",
      "    charset-normalizer-2.0.4   |     pyhd3eb1b0_0          35 KB\n",
      "    click-8.0.4                |   py37h06a4308_0         152 KB\n",
      "    conda-4.12.0               |   py37h06a4308_0        14.5 MB\n",
      "    dataclasses-0.8            |     pyh6d0b6a4_7           8 KB\n",
      "    frozenlist-1.2.0           |   py37h7f8727e_0          78 KB\n",
      "    gast-0.4.0                 |     pyhd3eb1b0_0          13 KB\n",
      "    google-auth-2.6.0          |     pyhd3eb1b0_0          83 KB\n",
      "    google-auth-oauthlib-0.4.4 |     pyhd3eb1b0_0          18 KB\n",
      "    google-pasta-0.2.0         |     pyhd3eb1b0_0          46 KB\n",
      "    grpcio-1.42.0              |   py37hce63b2e_0         2.1 MB\n",
      "    h5py-2.10.0                |   py37hd6299e0_1         902 KB\n",
      "    hdf5-1.10.6                |       hb1b8bf9_0         3.7 MB\n",
      "    importlib-metadata-4.11.3  |   py37h06a4308_0          40 KB\n",
      "    keras-preprocessing-1.1.2  |     pyhd3eb1b0_0          35 KB\n",
      "    libgfortran-ng-7.5.0       |      ha8ba4b0_17          22 KB\n",
      "    libgfortran4-7.5.0         |      ha8ba4b0_17         995 KB\n",
      "    libprotobuf-3.19.1         |       h4ff587b_0         2.1 MB\n",
      "    markdown-3.3.4             |   py37h06a4308_0         127 KB\n",
      "    multidict-5.2.0            |   py37h7f8727e_2          62 KB\n",
      "    oauthlib-3.2.0             |     pyhd3eb1b0_0          92 KB\n",
      "    openssl-1.1.1o             |       h7f8727e_0         2.5 MB\n",
      "    opt_einsum-3.3.0           |     pyhd3eb1b0_1          57 KB\n",
      "    protobuf-3.19.1            |   py37h295c915_0         306 KB\n",
      "    pyasn1-0.4.8               |     pyhd3eb1b0_0          54 KB\n",
      "    pyasn1-modules-0.2.8       |             py_0          72 KB\n",
      "    pyjwt-2.1.0                |   py37h06a4308_0          32 KB\n",
      "    python-flatbuffers-2.0     |     pyhd3eb1b0_0          34 KB\n",
      "    requests-oauthlib-1.3.0    |             py_0          23 KB\n",
      "    rsa-4.7.2                  |     pyhd3eb1b0_1          28 KB\n",
      "    scipy-1.7.1                |   py37h292c36d_2        16.4 MB\n",
      "    tensorboard-2.4.0          |     pyhc547734_0         8.8 MB\n",
      "    tensorboard-plugin-wit-1.6.0|             py_0         630 KB\n",
      "    tensorflow-2.4.1           |mkl_py37h2d14ff2_0           4 KB\n",
      "    tensorflow-base-2.4.1      |mkl_py37h43e0292_0        88.9 MB\n",
      "    tensorflow-estimator-2.6.0 |     pyh7b7c402_0         267 KB\n",
      "    termcolor-1.1.0            |   py37h06a4308_1           9 KB\n",
      "    typing-extensions-3.10.0.2 |       hd3eb1b0_0          12 KB\n",
      "    werkzeug-2.0.3             |     pyhd3eb1b0_0         221 KB\n",
      "    wrapt-1.13.3               |   py37h7f8727e_2          51 KB\n",
      "    yarl-1.6.3                 |   py37h27cfd23_0         133 KB\n",
      "    zipp-3.8.0                 |   py37h06a4308_0          15 KB\n",
      "    ------------------------------------------------------------\n",
      "                                           Total:       144.5 MB\n",
      "\n",
      "The following NEW packages will be INSTALLED:\n",
      "\n",
      "  _tflow_select      pkgs/main/linux-64::_tflow_select-2.3.0-mkl\n",
      "  absl-py            pkgs/main/noarch::absl-py-0.15.0-pyhd3eb1b0_0\n",
      "  aiohttp            pkgs/main/linux-64::aiohttp-3.8.1-py37h7f8727e_1\n",
      "  aiosignal          pkgs/main/noarch::aiosignal-1.2.0-pyhd3eb1b0_0\n",
      "  astor              pkgs/main/linux-64::astor-0.8.1-py37h06a4308_0\n",
      "  astunparse         pkgs/main/noarch::astunparse-1.6.3-py_0\n",
      "  async-timeout      pkgs/main/noarch::async-timeout-4.0.1-pyhd3eb1b0_0\n",
      "  asynctest          pkgs/main/noarch::asynctest-0.13.0-py_0\n",
      "  attrs              pkgs/main/noarch::attrs-21.4.0-pyhd3eb1b0_0\n",
      "  blinker            pkgs/main/linux-64::blinker-1.4-py37h06a4308_0\n",
      "  c-ares             pkgs/main/linux-64::c-ares-1.18.1-h7f8727e_0\n",
      "  cachetools         pkgs/main/noarch::cachetools-4.2.2-pyhd3eb1b0_0\n",
      "  charset-normalizer pkgs/main/noarch::charset-normalizer-2.0.4-pyhd3eb1b0_0\n",
      "  click              pkgs/main/linux-64::click-8.0.4-py37h06a4308_0\n",
      "  dataclasses        pkgs/main/noarch::dataclasses-0.8-pyh6d0b6a4_7\n",
      "  frozenlist         pkgs/main/linux-64::frozenlist-1.2.0-py37h7f8727e_0\n",
      "  gast               pkgs/main/noarch::gast-0.4.0-pyhd3eb1b0_0\n",
      "  google-auth        pkgs/main/noarch::google-auth-2.6.0-pyhd3eb1b0_0\n",
      "  google-auth-oauth~ pkgs/main/noarch::google-auth-oauthlib-0.4.4-pyhd3eb1b0_0\n",
      "  google-pasta       pkgs/main/noarch::google-pasta-0.2.0-pyhd3eb1b0_0\n",
      "  grpcio             pkgs/main/linux-64::grpcio-1.42.0-py37hce63b2e_0\n",
      "  h5py               pkgs/main/linux-64::h5py-2.10.0-py37hd6299e0_1\n",
      "  hdf5               pkgs/main/linux-64::hdf5-1.10.6-hb1b8bf9_0\n",
      "  importlib-metadata pkgs/main/linux-64::importlib-metadata-4.11.3-py37h06a4308_0\n",
      "  keras-preprocessi~ pkgs/main/noarch::keras-preprocessing-1.1.2-pyhd3eb1b0_0\n",
      "  libgfortran-ng     pkgs/main/linux-64::libgfortran-ng-7.5.0-ha8ba4b0_17\n",
      "  libgfortran4       pkgs/main/linux-64::libgfortran4-7.5.0-ha8ba4b0_17\n",
      "  libprotobuf        pkgs/main/linux-64::libprotobuf-3.19.1-h4ff587b_0\n",
      "  markdown           pkgs/main/linux-64::markdown-3.3.4-py37h06a4308_0\n",
      "  multidict          pkgs/main/linux-64::multidict-5.2.0-py37h7f8727e_2\n",
      "  oauthlib           pkgs/main/noarch::oauthlib-3.2.0-pyhd3eb1b0_0\n",
      "  opt_einsum         pkgs/main/noarch::opt_einsum-3.3.0-pyhd3eb1b0_1\n",
      "  protobuf           pkgs/main/linux-64::protobuf-3.19.1-py37h295c915_0\n",
      "  pyasn1             pkgs/main/noarch::pyasn1-0.4.8-pyhd3eb1b0_0\n",
      "  pyasn1-modules     pkgs/main/noarch::pyasn1-modules-0.2.8-py_0\n",
      "  pyjwt              pkgs/main/linux-64::pyjwt-2.1.0-py37h06a4308_0\n",
      "  python-flatbuffers pkgs/main/noarch::python-flatbuffers-2.0-pyhd3eb1b0_0\n",
      "  requests-oauthlib  pkgs/main/noarch::requests-oauthlib-1.3.0-py_0\n",
      "  rsa                pkgs/main/noarch::rsa-4.7.2-pyhd3eb1b0_1\n",
      "  scipy              pkgs/main/linux-64::scipy-1.7.1-py37h292c36d_2\n",
      "  tensorboard        pkgs/main/noarch::tensorboard-2.4.0-pyhc547734_0\n",
      "  tensorboard-plugi~ pkgs/main/noarch::tensorboard-plugin-wit-1.6.0-py_0\n",
      "  tensorflow         pkgs/main/linux-64::tensorflow-2.4.1-mkl_py37h2d14ff2_0\n",
      "  tensorflow-base    pkgs/main/linux-64::tensorflow-base-2.4.1-mkl_py37h43e0292_0\n",
      "  tensorflow-estima~ pkgs/main/noarch::tensorflow-estimator-2.6.0-pyh7b7c402_0\n",
      "  termcolor          pkgs/main/linux-64::termcolor-1.1.0-py37h06a4308_1\n",
      "  typing-extensions  pkgs/main/noarch::typing-extensions-3.10.0.2-hd3eb1b0_0\n",
      "  werkzeug           pkgs/main/noarch::werkzeug-2.0.3-pyhd3eb1b0_0\n",
      "  wrapt              pkgs/main/linux-64::wrapt-1.13.3-py37h7f8727e_2\n",
      "  yarl               pkgs/main/linux-64::yarl-1.6.3-py37h27cfd23_0\n",
      "  zipp               pkgs/main/linux-64::zipp-3.8.0-py37h06a4308_0\n",
      "\n",
      "The following packages will be UPDATED:\n",
      "\n",
      "  ca-certificates                      2021.9.30-h06a4308_1 --> 2022.4.26-h06a4308_0\n",
      "  certifi                          2021.10.8-py37h06a4308_0 --> 2022.5.18.1-py37h06a4308_0\n",
      "  conda                               4.10.3-py37h06a4308_0 --> 4.12.0-py37h06a4308_0\n",
      "  openssl                                 1.1.1l-h7f8727e_0 --> 1.1.1o-h7f8727e_0\n",
      "\n",
      "\n",
      "\n",
      "Downloading and Extracting Packages\n",
      "asynctest-0.13.0     | 26 KB     | ##################################### | 100% \n",
      "tensorboard-2.4.0    | 8.8 MB    | ##################################### | 100% \n",
      "google-pasta-0.2.0   | 46 KB     | ##################################### | 100% \n",
      "aiohttp-3.8.1        | 514 KB    | ##################################### | 100% \n",
      "blinker-1.4          | 23 KB     | ##################################### | 100% \n",
      "ca-certificates-2022 | 124 KB    | ##################################### | 100% \n",
      "python-flatbuffers-2 | 34 KB     | ##################################### | 100% \n",
      "requests-oauthlib-1. | 23 KB     | ##################################### | 100% \n",
      "c-ares-1.18.1        | 114 KB    | ##################################### | 100% \n",
      "libgfortran-ng-7.5.0 | 22 KB     | ##################################### | 100% \n",
      "google-auth-2.6.0    | 83 KB     | ##################################### | 100% \n",
      "rsa-4.7.2            | 28 KB     | ##################################### | 100% \n",
      "astor-0.8.1          | 47 KB     | ##################################### | 100% \n",
      "_tflow_select-2.3.0  | 2 KB      | ##################################### | 100% \n",
      "grpcio-1.42.0        | 2.1 MB    | ##################################### | 100% \n",
      "pyjwt-2.1.0          | 32 KB     | ##################################### | 100% \n",
      "importlib-metadata-4 | 40 KB     | ##################################### | 100% \n",
      "keras-preprocessing- | 35 KB     | ##################################### | 100% \n",
      "certifi-2022.5.18.1  | 147 KB    | ##################################### | 100% \n",
      "protobuf-3.19.1      | 306 KB    | ##################################### | 100% \n",
      "absl-py-0.15.0       | 103 KB    | ##################################### | 100% \n",
      "scipy-1.7.1          | 16.4 MB   | ##################################### | 100% \n",
      "markdown-3.3.4       | 127 KB    | ##################################### | 100% \n",
      "async-timeout-4.0.1  | 10 KB     | ##################################### | 100% \n",
      "h5py-2.10.0          | 902 KB    | ##################################### | 100% \n",
      "pyasn1-modules-0.2.8 | 72 KB     | ##################################### | 100% \n",
      "click-8.0.4          | 152 KB    | ##################################### | 100% \n",
      "cachetools-4.2.2     | 13 KB     | ##################################### | 100% \n",
      "google-auth-oauthlib | 18 KB     | ##################################### | 100% \n",
      "zipp-3.8.0           | 15 KB     | ##################################### | 100% \n",
      "werkzeug-2.0.3       | 221 KB    | ##################################### | 100% \n",
      "charset-normalizer-2 | 35 KB     | ##################################### | 100% \n",
      "pyasn1-0.4.8         | 54 KB     | ##################################### | 100% \n",
      "wrapt-1.13.3         | 51 KB     | ##################################### | 100% \n",
      "termcolor-1.1.0      | 9 KB      | ##################################### | 100% \n",
      "oauthlib-3.2.0       | 92 KB     | ##################################### | 100% \n",
      "tensorboard-plugin-w | 630 KB    | ##################################### | 100% \n",
      "libprotobuf-3.19.1   | 2.1 MB    | ##################################### | 100% \n",
      "attrs-21.4.0         | 51 KB     | ##################################### | 100% \n",
      "opt_einsum-3.3.0     | 57 KB     | ##################################### | 100% \n",
      "astunparse-1.6.3     | 17 KB     | ##################################### | 100% \n",
      "hdf5-1.10.6          | 3.7 MB    | ##################################### | 100% \n",
      "multidict-5.2.0      | 62 KB     | ##################################### | 100% \n",
      "tensorflow-base-2.4. | 88.9 MB   | ##################################### | 100% \n",
      "aiosignal-1.2.0      | 12 KB     | ##################################### | 100% \n",
      "libgfortran4-7.5.0   | 995 KB    | ##################################### | 100% \n",
      "frozenlist-1.2.0     | 78 KB     | ##################################### | 100% \n",
      "tensorflow-2.4.1     | 4 KB      | ##################################### | 100% \n",
      "gast-0.4.0           | 13 KB     | ##################################### | 100% \n",
      "conda-4.12.0         | 14.5 MB   | ##################################### | 100% \n",
      "openssl-1.1.1o       | 2.5 MB    | ##################################### | 100% \n",
      "tensorflow-estimator | 267 KB    | ##################################### | 100% \n",
      "typing-extensions-3. | 12 KB     | ##################################### | 100% \n",
      "yarl-1.6.3           | 133 KB    | ##################################### | 100% \n",
      "dataclasses-0.8      | 8 KB      | ##################################### | 100% \n",
      "Preparing transaction: done\n",
      "Verifying transaction: done\n",
      "Executing transaction: done\n"
     ]
    }
   ],
   "source": [
    "!conda install -y  tensorflow "
   ]
  },
  {
   "cell_type": "code",
   "execution_count": 3,
   "id": "25d83e5b-7b10-4756-9731-7bfce3c84acc",
   "metadata": {
    "execution": {
     "iopub.execute_input": "2022-06-10T02:25:46.757301Z",
     "iopub.status.busy": "2022-06-10T02:25:46.756736Z",
     "iopub.status.idle": "2022-06-10T02:25:46.783065Z",
     "shell.execute_reply": "2022-06-10T02:25:46.780694Z",
     "shell.execute_reply.started": "2022-06-10T02:25:46.757226Z"
    },
    "tags": []
   },
   "outputs": [
    {
     "name": "stdout",
     "output_type": "stream",
     "text": [
      "/notebooks/keras635f\n"
     ]
    }
   ],
   "source": [
    "%%bash\n",
    "pwd\n",
    "# conda init bash\n",
    "# conda activate studiolab\n"
   ]
  },
  {
   "cell_type": "code",
   "execution_count": 4,
   "id": "0b08cd73-0ef6-48d5-a749-eea642134fbc",
   "metadata": {
    "execution": {
     "iopub.execute_input": "2022-06-10T02:25:48.736953Z",
     "iopub.status.busy": "2022-06-10T02:25:48.736478Z",
     "iopub.status.idle": "2022-06-10T02:25:50.705125Z",
     "shell.execute_reply": "2022-06-10T02:25:50.702415Z",
     "shell.execute_reply.started": "2022-06-10T02:25:48.736906Z"
    },
    "tags": []
   },
   "outputs": [
    {
     "name": "stdout",
     "output_type": "stream",
     "text": [
      "Package                 Version\n",
      "----------------------- -----------\n",
      "absl-py                 1.0.0\n",
      "aiohttp                 3.8.1\n",
      "aiosignal               1.2.0\n",
      "albumentations          1.1.0\n",
      "argcomplete             1.12.3\n",
      "argon2-cffi             21.1.0\n",
      "astor                   0.8.1\n",
      "astunparse              1.6.3\n",
      "async-timeout           4.0.1\n",
      "asynctest               0.13.0\n",
      "attrs                   21.4.0\n",
      "backcall                0.2.0\n",
      "beautifulsoup4          4.10.0\n",
      "bleach                  4.1.0\n",
      "blinker                 1.4\n",
      "blis                    0.7.5\n",
      "boto3                   1.20.4\n",
      "botocore                1.23.4\n",
      "bravado                 11.0.3\n",
      "bravado-core            5.17.0\n",
      "brotlipy                0.7.0\n",
      "cachetools              4.2.4\n",
      "captum                  0.4.1\n",
      "catalogue               2.0.6\n",
      "catalyst                21.10\n",
      "certifi                 2022.5.18.1\n",
      "cffi                    1.14.6\n",
      "chardet                 4.0.0\n",
      "charset-normalizer      2.0.4\n",
      "click                   8.0.4\n",
      "conda                   4.12.0\n",
      "conda-build             3.21.5\n",
      "conda-package-handling  1.7.3\n",
      "configparser            5.1.0\n",
      "cryptography            3.4.8\n",
      "cycler                  0.11.0\n",
      "cymem                   2.0.6\n",
      "debugpy                 1.5.1\n",
      "decorator               5.1.0\n",
      "defusedxml              0.7.1\n",
      "detecto                 1.2.2\n",
      "dnspython               2.1.0\n",
      "docker-pycreds          0.4.0\n",
      "entrypoints             0.3\n",
      "fastai                  2.5.4\n",
      "fastcore                1.3.28\n",
      "fastdownload            0.0.5\n",
      "fastprogress            1.0.0\n",
      "fastrelease             0.1.12\n",
      "filelock                3.0.12\n",
      "flatbuffers             2.0\n",
      "frozenlist              1.2.0\n",
      "future                  0.18.2\n",
      "gast                    0.4.0\n",
      "ghapi                   0.1.19\n",
      "gitdb                   4.0.9\n",
      "GitPython               3.1.24\n",
      "glob2                   0.7\n",
      "google-auth             2.6.0\n",
      "google-auth-oauthlib    0.4.6\n",
      "google-pasta            0.2.0\n",
      "graphviz                0.18\n",
      "grpcio                  1.42.0\n",
      "h5py                    2.10.0\n",
      "hydra-slayer            0.3.0\n",
      "idna                    2.10\n",
      "imageio                 2.10.3\n",
      "importlib-metadata      4.11.3\n",
      "ipykernel               6.5.0\n",
      "ipython                 7.27.0\n",
      "ipython-genutils        0.2.0\n",
      "ipywidgets              7.6.5\n",
      "jedi                    0.18.0\n",
      "Jinja2                  2.11.3\n",
      "jmespath                0.10.0\n",
      "joblib                  1.1.0\n",
      "jsonpointer             2.2\n",
      "jsonref                 0.2\n",
      "jsonschema              3.2.0\n",
      "jupyter                 1.0.0\n",
      "jupyter-client          6.1.12\n",
      "jupyter-console         6.4.0\n",
      "jupyter-core            4.9.1\n",
      "jupyterlab-widgets      1.0.2\n",
      "Keras-Preprocessing     1.1.2\n",
      "kiwisolver              1.3.2\n",
      "kornia                  0.6.1\n",
      "langcodes               3.3.0\n",
      "libarchive-c            2.9\n",
      "Markdown                3.3.4\n",
      "MarkupSafe              2.0.1\n",
      "matplotlib              3.4.3\n",
      "matplotlib-inline       0.1.2\n",
      "mistune                 0.8.4\n",
      "mkl-fft                 1.3.1\n",
      "mkl-random              1.2.2\n",
      "mkl-service             2.4.0\n",
      "monotonic               1.6\n",
      "msgpack                 1.0.2\n",
      "multidict               5.2.0\n",
      "murmurhash              1.0.6\n",
      "nbconvert               5.6.1\n",
      "nbdev                   1.1.23\n",
      "nbformat                5.1.3\n",
      "neptune-client          0.13.1\n",
      "networkx                2.6.3\n",
      "notebook                6.4.5\n",
      "numpy                   1.21.2\n",
      "oauthlib                3.2.0\n",
      "olefile                 0.46\n",
      "opencv-python           4.5.4.58\n",
      "opencv-python-headless  4.5.4.58\n",
      "opt-einsum              3.3.0\n",
      "packaging               21.2\n",
      "pandas                  1.3.4\n",
      "pandocfilters           1.5.0\n",
      "parso                   0.8.2\n",
      "pathtools               0.1.2\n",
      "pathy                   0.6.1\n",
      "pexpect                 4.8.0\n",
      "pickleshare             0.7.5\n",
      "Pillow                  8.4.0\n",
      "pip                     21.0.1\n",
      "pkginfo                 1.7.1\n",
      "preshed                 3.0.6\n",
      "prometheus-client       0.12.0\n",
      "promise                 2.3\n",
      "prompt-toolkit          3.0.20\n",
      "protobuf                3.19.1\n",
      "psutil                  5.8.0\n",
      "ptyprocess              0.7.0\n",
      "pyarrow                 6.0.0\n",
      "pyasn1                  0.4.8\n",
      "pyasn1-modules          0.2.8\n",
      "pycosat                 0.6.3\n",
      "pycparser               2.20\n",
      "pydantic                1.8.2\n",
      "pydicom                 2.2.2\n",
      "Pygments                2.10.0\n",
      "PyJWT                   2.3.0\n",
      "pyOpenSSL               20.0.1\n",
      "pyparsing               2.4.7\n",
      "pyrsistent              0.18.0\n",
      "PySocks                 1.7.1\n",
      "python-dateutil         2.8.2\n",
      "python-etcd             0.4.5\n",
      "pytz                    2021.3\n",
      "PyWavelets              1.2.0\n",
      "PyYAML                  5.4.1\n",
      "pyzmq                   22.3.0\n",
      "qtconsole               5.2.0\n",
      "QtPy                    1.11.2\n",
      "qudida                  0.0.4\n",
      "requests                2.25.1\n",
      "requests-oauthlib       1.3.0\n",
      "rfc3987                 1.3.8\n",
      "rsa                     4.7.2\n",
      "ruamel-yaml-conda       0.15.100\n",
      "s3transfer              0.5.0\n",
      "scikit-image            0.18.3\n",
      "scikit-learn            1.0.1\n",
      "scipy                   1.7.2\n",
      "Send2Trash              1.8.0\n",
      "sentencepiece           0.1.86\n",
      "sentry-sdk              1.4.3\n",
      "setuptools              58.0.4\n",
      "shortuuid               1.0.8\n",
      "simplejson              3.17.5\n",
      "six                     1.16.0\n",
      "smart-open              5.2.1\n",
      "smmap                   5.0.0\n",
      "soupsieve               2.2.1\n",
      "spacy                   3.2.0\n",
      "spacy-legacy            3.0.8\n",
      "spacy-loggers           1.0.1\n",
      "srsly                   2.4.2\n",
      "strict-rfc3339          0.7\n",
      "subprocess32            3.5.4\n",
      "swagger-spec-validator  2.7.4\n",
      "tensorboard             2.7.0\n",
      "tensorboard-data-server 0.6.1\n",
      "tensorboard-plugin-wit  1.8.0\n",
      "tensorboardX            2.2\n",
      "tensorflow              2.4.1\n",
      "tensorflow-estimator    2.6.0\n",
      "termcolor               1.1.0\n",
      "terminado               0.12.1\n",
      "testpath                0.5.0\n",
      "thinc                   8.0.13\n",
      "threadpoolctl           3.0.0\n",
      "tifffile                2021.11.2\n",
      "torch                   1.10.0\n",
      "torchelastic            0.2.0\n",
      "torchtext               0.11.0\n",
      "torchvision             0.11.0\n",
      "tornado                 6.1\n",
      "tqdm                    4.61.2\n",
      "traitlets               5.1.0\n",
      "typer                   0.4.0\n",
      "typing-extensions       3.10.0.2\n",
      "urllib3                 1.26.6\n",
      "wandb                   0.12.6\n",
      "wasabi                  0.8.2\n",
      "wcwidth                 0.2.5\n",
      "webcolors               1.11.1\n",
      "webencodings            0.5.1\n",
      "websocket-client        1.2.1\n",
      "Werkzeug                2.0.3\n",
      "wheel                   0.36.2\n",
      "widgetsnbextension      3.5.2\n",
      "wrapt                   1.13.3\n",
      "yarl                    1.6.3\n",
      "yaspin                  2.1.0\n",
      "zipp                    3.8.0\n",
      "Note: you may need to restart the kernel to use updated packages.\n"
     ]
    }
   ],
   "source": [
    "pip list"
   ]
  },
  {
   "cell_type": "code",
   "execution_count": 5,
   "id": "7b7c6300-0ec9-42a6-a0ec-75279204f002",
   "metadata": {
    "execution": {
     "iopub.execute_input": "2022-06-10T02:25:54.313024Z",
     "iopub.status.busy": "2022-06-10T02:25:54.312558Z",
     "iopub.status.idle": "2022-06-10T02:25:59.009397Z",
     "shell.execute_reply": "2022-06-10T02:25:59.007282Z",
     "shell.execute_reply.started": "2022-06-10T02:25:54.312975Z"
    },
    "tags": []
   },
   "outputs": [
    {
     "name": "stdout",
     "output_type": "stream",
     "text": [
      "Downloading data from https://storage.googleapis.com/tensorflow/tf-keras-datasets/mnist.npz\n",
      "11493376/11490434 [==============================] - 0s 0us/step\n"
     ]
    }
   ],
   "source": [
    "from tensorflow.keras.datasets import mnist\n",
    "(train_images, train_labels), (test_images, test_labels) = mnist.load_data()"
   ]
  },
  {
   "cell_type": "code",
   "execution_count": 6,
   "id": "6b11ae17-0fe6-4dc3-91a6-bedc634ec787",
   "metadata": {
    "execution": {
     "iopub.execute_input": "2022-06-10T02:26:04.645086Z",
     "iopub.status.busy": "2022-06-10T02:26:04.644710Z",
     "iopub.status.idle": "2022-06-10T02:26:04.662960Z",
     "shell.execute_reply": "2022-06-10T02:26:04.661282Z",
     "shell.execute_reply.started": "2022-06-10T02:26:04.645032Z"
    }
   },
   "outputs": [
    {
     "data": {
      "text/plain": [
       "(60000, 28, 28)"
      ]
     },
     "execution_count": 6,
     "metadata": {},
     "output_type": "execute_result"
    }
   ],
   "source": [
    "# 2.1 A first look at a neural network\n",
    "\n",
    "train_images.shape"
   ]
  },
  {
   "cell_type": "code",
   "execution_count": 7,
   "id": "df297034-8ac7-4284-9bd4-2ad6bf35150f",
   "metadata": {
    "execution": {
     "iopub.execute_input": "2022-06-10T02:26:07.031152Z",
     "iopub.status.busy": "2022-06-10T02:26:07.030459Z",
     "iopub.status.idle": "2022-06-10T02:26:07.047840Z",
     "shell.execute_reply": "2022-06-10T02:26:07.045473Z",
     "shell.execute_reply.started": "2022-06-10T02:26:07.031068Z"
    }
   },
   "outputs": [
    {
     "data": {
      "text/plain": [
       "array([7, 2, 1, ..., 4, 5, 6], dtype=uint8)"
      ]
     },
     "execution_count": 7,
     "metadata": {},
     "output_type": "execute_result"
    }
   ],
   "source": [
    "test_labels"
   ]
  },
  {
   "cell_type": "code",
   "execution_count": 8,
   "id": "b9f2026f-df0d-4c50-b364-e81cecbc189d",
   "metadata": {
    "execution": {
     "iopub.execute_input": "2022-06-10T02:26:09.876026Z",
     "iopub.status.busy": "2022-06-10T02:26:09.875402Z",
     "iopub.status.idle": "2022-06-10T02:26:09.911450Z",
     "shell.execute_reply": "2022-06-10T02:26:09.909612Z",
     "shell.execute_reply.started": "2022-06-10T02:26:09.875972Z"
    }
   },
   "outputs": [
    {
     "name": "stderr",
     "output_type": "stream",
     "text": [
      "2022-06-10 02:26:09.895519: I tensorflow/compiler/jit/xla_cpu_device.cc:41] Not creating XLA devices, tf_xla_enable_xla_devices not set\n",
      "2022-06-10 02:26:09.895932: I tensorflow/core/platform/cpu_feature_guard.cc:142] This TensorFlow binary is optimized with oneAPI Deep Neural Network Library (oneDNN) to use the following CPU instructions in performance-critical operations:  SSE4.1 SSE4.2 AVX AVX2 FMA\n",
      "To enable them in other operations, rebuild TensorFlow with the appropriate compiler flags.\n",
      "2022-06-10 02:26:09.898574: I tensorflow/core/common_runtime/process_util.cc:146] Creating new thread pool with default inter op setting: 2. Tune using inter_op_parallelism_threads for best performance.\n"
     ]
    }
   ],
   "source": [
    "from tensorflow.keras import models\n",
    "from tensorflow.keras import layers\n",
    "model = models.Sequential([\n",
    "layers.Dense(512, activation='relu'),\n",
    "layers.Dense(10, activation='softmax')\n",
    "])"
   ]
  },
  {
   "cell_type": "code",
   "execution_count": 9,
   "id": "463cd7b9-13cc-4218-b631-8d3203e5a595",
   "metadata": {
    "execution": {
     "iopub.execute_input": "2022-06-10T02:26:41.291346Z",
     "iopub.status.busy": "2022-06-10T02:26:41.290841Z",
     "iopub.status.idle": "2022-06-10T02:26:41.319801Z",
     "shell.execute_reply": "2022-06-10T02:26:41.317786Z",
     "shell.execute_reply.started": "2022-06-10T02:26:41.291302Z"
    }
   },
   "outputs": [],
   "source": [
    "model.compile(optimizer='rmsprop',\n",
    "loss='sparse_categorical_crossentropy',\n",
    "metrics=['accuracy'])"
   ]
  },
  {
   "cell_type": "code",
   "execution_count": 10,
   "id": "955c651b-7c9d-4e8f-a023-bf79fa487d23",
   "metadata": {
    "execution": {
     "iopub.execute_input": "2022-06-10T02:26:43.826952Z",
     "iopub.status.busy": "2022-06-10T02:26:43.826662Z",
     "iopub.status.idle": "2022-06-10T02:26:43.966552Z",
     "shell.execute_reply": "2022-06-10T02:26:43.965151Z",
     "shell.execute_reply.started": "2022-06-10T02:26:43.826924Z"
    }
   },
   "outputs": [],
   "source": [
    "train_images = train_images.reshape((60000, 28 * 28))\n",
    "train_images = train_images.astype('float32') / 255\n",
    "test_images = test_images.reshape((10000, 28 * 28))\n",
    "test_images = test_images.astype('float32') / 255"
   ]
  },
  {
   "cell_type": "code",
   "execution_count": 11,
   "id": "9e58aa53-0981-447b-8812-ccc769841101",
   "metadata": {
    "execution": {
     "iopub.execute_input": "2022-06-10T02:26:51.013785Z",
     "iopub.status.busy": "2022-06-10T02:26:51.013236Z",
     "iopub.status.idle": "2022-06-10T02:27:31.454696Z",
     "shell.execute_reply": "2022-06-10T02:27:31.452439Z",
     "shell.execute_reply.started": "2022-06-10T02:26:51.013753Z"
    }
   },
   "outputs": [
    {
     "name": "stderr",
     "output_type": "stream",
     "text": [
      "2022-06-10 02:26:51.299342: I tensorflow/compiler/mlir/mlir_graph_optimization_pass.cc:116] None of the MLIR optimization passes are enabled (registered 2)\n",
      "2022-06-10 02:26:51.300181: I tensorflow/core/platform/profile_utils/cpu_utils.cc:112] CPU Frequency: 2600010000 Hz\n"
     ]
    },
    {
     "name": "stdout",
     "output_type": "stream",
     "text": [
      "Epoch 1/5\n",
      "469/469 [==============================] - 11s 22ms/step - loss: 0.4327 - accuracy: 0.8744\n",
      "Epoch 2/5\n",
      "469/469 [==============================] - 8s 17ms/step - loss: 0.1118 - accuracy: 0.9680\n",
      "Epoch 3/5\n",
      "469/469 [==============================] - 8s 17ms/step - loss: 0.0735 - accuracy: 0.9783\n",
      "Epoch 4/5\n",
      "469/469 [==============================] - 6s 13ms/step - loss: 0.0491 - accuracy: 0.9856\n",
      "Epoch 5/5\n",
      "469/469 [==============================] - 6s 14ms/step - loss: 0.0371 - accuracy: 0.9890\n"
     ]
    },
    {
     "data": {
      "text/plain": [
       "<tensorflow.python.keras.callbacks.History at 0x7f17803ad990>"
      ]
     },
     "execution_count": 11,
     "metadata": {},
     "output_type": "execute_result"
    }
   ],
   "source": [
    "model.fit(train_images, train_labels, epochs=5, batch_size=128)\n",
    "# Epoch 1/5\n",
    "# 60000/60000 [==============================] - 5s - loss: 0.2524 - acc: 0.9273\n",
    "# Epoch 2/5\n",
    "# 51328/60000 [========================>.....] - ETA: 1s - loss: 0.1035 - acc: 0.9692"
   ]
  },
  {
   "cell_type": "code",
   "execution_count": 12,
   "id": "fd5cd9d9-f332-4de5-a476-1b8b317a006e",
   "metadata": {
    "execution": {
     "iopub.execute_input": "2022-06-10T02:29:48.284639Z",
     "iopub.status.busy": "2022-06-10T02:29:48.283847Z",
     "iopub.status.idle": "2022-06-10T02:29:48.514575Z",
     "shell.execute_reply": "2022-06-10T02:29:48.513519Z",
     "shell.execute_reply.started": "2022-06-10T02:29:48.284606Z"
    }
   },
   "outputs": [
    {
     "data": {
      "text/plain": [
       "array([9.6696784e-09, 6.0315690e-11, 6.3854918e-07, 2.1582387e-05,\n",
       "       3.6327833e-12, 8.6368326e-09, 1.3802922e-14, 9.9997747e-01,\n",
       "       1.7440261e-08, 1.8451753e-07], dtype=float32)"
      ]
     },
     "execution_count": 12,
     "metadata": {},
     "output_type": "execute_result"
    }
   ],
   "source": [
    "# 2.1 A first look at a neural network\n",
    "# Listing 2.6 Using the model to make predictions\n",
    "\n",
    "test_digits = test_images[0:10]\n",
    "predictions = model.predict(test_digits)\n",
    "predictions[0]\n",
    "# array([1.0726176e-10, 1.6918376e-10, 6.1314843e-08, 8.4106023e-06,\n",
    "# 2.9967067e-11, 3.0331331e-09, 8.3651971e-14, 9.9999106e-01,\n",
    "# 2.6657624e-08, 3.8127661e-07], dtype=float32)"
   ]
  },
  {
   "cell_type": "markdown",
   "id": "c37d31c3-ea39-4d2b-8baa-fd3468d47977",
   "metadata": {},
   "source": [
    "2.2 Data representations for neural networks\n"
   ]
  },
  {
   "cell_type": "code",
   "execution_count": null,
   "id": "51eee422-1feb-481d-85f5-988d0cb340f1",
   "metadata": {},
   "outputs": [],
   "source": []
  }
 ],
 "metadata": {
  "kernelspec": {
   "display_name": "Python 3 (ipykernel)",
   "language": "python",
   "name": "python3"
  },
  "language_info": {
   "codemirror_mode": {
    "name": "ipython",
    "version": 3
   },
   "file_extension": ".py",
   "mimetype": "text/x-python",
   "name": "python",
   "nbconvert_exporter": "python",
   "pygments_lexer": "ipython3",
   "version": "3.7.11"
  }
 },
 "nbformat": 4,
 "nbformat_minor": 5
}
